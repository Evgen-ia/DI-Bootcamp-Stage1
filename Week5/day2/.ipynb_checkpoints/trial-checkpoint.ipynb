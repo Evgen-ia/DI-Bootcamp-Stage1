{
 "cells": [
  {
   "cell_type": "code",
   "execution_count": 13,
   "id": "d8b6078c-0956-46b7-9f73-c2d00db29f54",
   "metadata": {},
   "outputs": [],
   "source": [
    "import pandas as pd\n",
    "import ssl\n",
    "\n",
    "ssl._create_default_https_context = ssl._create_unverified_context\n",
    "\n",
    "url = \"https://raw.githubusercontent.com/justmarkham/DAT8/master/data/chipotle.tsv\" \n",
    "\n",
    "chipo = pd.read_csv(url, sep='\\t')"
   ]
  },
  {
   "cell_type": "code",
   "execution_count": 14,
   "id": "8c4e9366-3709-45b9-9721-475e69e84568",
   "metadata": {},
   "outputs": [
    {
     "name": "stdout",
     "output_type": "stream",
     "text": [
      "Task 3:\n",
      "   order_id  quantity                              item_name  \\\n",
      "0         1         1           Chips and Fresh Tomato Salsa   \n",
      "1         1         1                                   Izze   \n",
      "2         1         1                       Nantucket Nectar   \n",
      "3         1         1  Chips and Tomatillo-Green Chili Salsa   \n",
      "4         2         2                           Chicken Bowl   \n",
      "5         3         1                           Chicken Bowl   \n",
      "6         3         1                          Side of Chips   \n",
      "7         4         1                          Steak Burrito   \n",
      "8         4         1                       Steak Soft Tacos   \n",
      "9         5         1                          Steak Burrito   \n",
      "\n",
      "                                  choice_description item_price  \n",
      "0                                                NaN     $2.39   \n",
      "1                                       [Clementine]     $3.39   \n",
      "2                                            [Apple]     $3.39   \n",
      "3                                                NaN     $2.39   \n",
      "4  [Tomatillo-Red Chili Salsa (Hot), [Black Beans...    $16.98   \n",
      "5  [Fresh Tomato Salsa (Mild), [Rice, Cheese, Sou...    $10.98   \n",
      "6                                                NaN     $1.69   \n",
      "7  [Tomatillo Red Chili Salsa, [Fajita Vegetables...    $11.75   \n",
      "8  [Tomatillo Green Chili Salsa, [Pinto Beans, Ch...     $9.25   \n",
      "9  [Fresh Tomato Salsa, [Rice, Black Beans, Pinto...     $9.25   \n"
     ]
    }
   ],
   "source": [
    "print(\"Task 3:\")\n",
    "print(chipo.head(10))"
   ]
  },
  {
   "cell_type": "code",
   "execution_count": 15,
   "id": "29b0f9e9-29b3-46da-9cd3-0424801bf4ae",
   "metadata": {},
   "outputs": [
    {
     "name": "stdout",
     "output_type": "stream",
     "text": [
      "\n",
      "Task 4:\n",
      "Total number of entries: 4622\n"
     ]
    }
   ],
   "source": [
    "total_rows = chipo.shape[0]\n",
    "print(\"\\nTask 4:\")\n",
    "print(f\"Total number of entries: {total_rows}\")\n"
   ]
  },
  {
   "cell_type": "code",
   "execution_count": 16,
   "id": "d1a63697-8b9a-4091-8229-065bf34e0bed",
   "metadata": {},
   "outputs": [
    {
     "name": "stdout",
     "output_type": "stream",
     "text": [
      "\n",
      "Task 5:\n",
      "Total number of columns: 5\n"
     ]
    }
   ],
   "source": [
    "total_columns = chipo.shape[1]\n",
    "print(\"\\nTask 5:\")\n",
    "print(f\"Total number of columns: {total_columns}\")"
   ]
  },
  {
   "cell_type": "code",
   "execution_count": 17,
   "id": "4ea2fb0b-ddf6-4ea5-af51-e5a9a22bd1a9",
   "metadata": {},
   "outputs": [
    {
     "name": "stdout",
     "output_type": "stream",
     "text": [
      "\n",
      "Task 6:\n",
      "Index(['order_id', 'quantity', 'item_name', 'choice_description',\n",
      "       'item_price'],\n",
      "      dtype='object')\n"
     ]
    }
   ],
   "source": [
    "print(\"\\nTask 6:\")\n",
    "print(chipo.columns)"
   ]
  },
  {
   "cell_type": "code",
   "execution_count": 18,
   "id": "326db947-d702-4b83-9f66-2c4ee5ff11b1",
   "metadata": {},
   "outputs": [
    {
     "name": "stdout",
     "output_type": "stream",
     "text": [
      "\n",
      "Task 7 Output:\n",
      "RangeIndex(start=0, stop=4622, step=1)\n"
     ]
    }
   ],
   "source": [
    "print(\"\\nTask 7 Output:\")\n",
    "print(chipo.index)"
   ]
  },
  {
   "cell_type": "code",
   "execution_count": 26,
   "id": "b0257725-c3ba-43b0-9c70-f9b5e0291727",
   "metadata": {},
   "outputs": [
    {
     "name": "stdout",
     "output_type": "stream",
     "text": [
      "\n",
      "Task 8:\n",
      "Most ordered item: Chicken Bowl\n"
     ]
    }
   ],
   "source": [
    "most_ordered_item = chipo['item_name'].value_counts().idxmax()\n",
    "print(\"\\nTask 8:\")\n",
    "print(f\"Most ordered item: {most_ordered_item}\")"
   ]
  },
  {
   "cell_type": "code",
   "execution_count": 27,
   "id": "8d86f742-b6d1-49dd-96c9-5756766a18aa",
   "metadata": {},
   "outputs": [
    {
     "name": "stdout",
     "output_type": "stream",
     "text": [
      "\n",
      "Task 9:\n",
      "Total number of items ordered: 4972\n"
     ]
    }
   ],
   "source": [
    "\n",
    "total_items_ordered = chipo['quantity'].sum()\n",
    "print(\"\\nTask 9:\")\n",
    "print(f\"Total number of items ordered: {total_items_ordered}\")"
   ]
  },
  {
   "cell_type": "code",
   "execution_count": 28,
   "id": "e906c900-c398-41d0-8900-525920431498",
   "metadata": {},
   "outputs": [
    {
     "name": "stdout",
     "output_type": "stream",
     "text": [
      "\n",
      "Task 10:\n",
      "Most ordered item from 'choice_description': [Diet Coke]\n"
     ]
    }
   ],
   "source": [
    "most_ordered_choice = chipo['choice_description'].value_counts().idxmax()\n",
    "print(\"\\nTask 10:\")\n",
    "print(f\"Most ordered item from 'choice_description': {most_ordered_choice}\")"
   ]
  },
  {
   "cell_type": "code",
   "execution_count": 32,
   "id": "69d76b07-19bf-4055-b854-8bad84664c0b",
   "metadata": {},
   "outputs": [
    {
     "name": "stdout",
     "output_type": "stream",
     "text": [
      "\n",
      "Task 11:\n"
     ]
    }
   ],
   "source": [
    "chipo['item_price'] = chipo['item_price'].apply(lambda x: float(str(x).replace('$', '')))\n",
    "\n",
    "print(\"\\nTask 11:\")"
   ]
  },
  {
   "cell_type": "code",
   "execution_count": 33,
   "id": "936c8632-1119-4078-9263-02660ba77f13",
   "metadata": {},
   "outputs": [
    {
     "name": "stdout",
     "output_type": "stream",
     "text": [
      "\n",
      "Task 12:\n",
      "Total revenue: $34500.16\n"
     ]
    }
   ],
   "source": [
    "total_revenue = chipo['item_price'].sum()\n",
    "print(\"\\nTask 12:\")\n",
    "print(f\"Total revenue: ${total_revenue:.2f}\")"
   ]
  },
  {
   "cell_type": "code",
   "execution_count": 34,
   "id": "e8d718ec-556c-4065-914e-23c80fee4b95",
   "metadata": {},
   "outputs": [
    {
     "name": "stdout",
     "output_type": "stream",
     "text": [
      "\n",
      "Task 13:\n",
      "Total number of orders: 1834\n"
     ]
    }
   ],
   "source": [
    "total_orders = chipo['order_id'].nunique()\n",
    "print(\"\\nTask 13:\")\n",
    "print(f\"Total number of orders: {total_orders}\")"
   ]
  },
  {
   "cell_type": "code",
   "execution_count": 35,
   "id": "7cf35ad5-3f70-44d0-8942-a54763d02f44",
   "metadata": {},
   "outputs": [
    {
     "name": "stdout",
     "output_type": "stream",
     "text": [
      "\n",
      "Task 14:\n",
      "Average order value: $18.81\n"
     ]
    }
   ],
   "source": [
    "average_order_value = total_revenue / total_orders\n",
    "print(\"\\nTask 14:\")\n",
    "print(f\"Average order value: ${average_order_value:.2f}\")"
   ]
  },
  {
   "cell_type": "code",
   "execution_count": 36,
   "id": "d6c79b9d-0941-42c2-a5e0-a93f2de3bd86",
   "metadata": {},
   "outputs": [
    {
     "name": "stdout",
     "output_type": "stream",
     "text": [
      "\n",
      "Task 15:\n",
      "Total number of unique items sold: 50\n"
     ]
    }
   ],
   "source": [
    "unique_items_sold = chipo['item_name'].nunique()\n",
    "print(\"\\nTask 15:\")\n",
    "print(f\"Total number of unique items sold: {unique_items_sold}\")"
   ]
  },
  {
   "cell_type": "code",
   "execution_count": null,
   "id": "58637ea1-5593-4b40-ada6-d34ca872b5df",
   "metadata": {},
   "outputs": [],
   "source": []
  },
  {
   "cell_type": "code",
   "execution_count": null,
   "id": "ed983b91-828d-473a-803b-abacfccc4fb8",
   "metadata": {},
   "outputs": [],
   "source": []
  }
 ],
 "metadata": {
  "kernelspec": {
   "display_name": "Python 3 (ipykernel)",
   "language": "python",
   "name": "python3"
  },
  "language_info": {
   "codemirror_mode": {
    "name": "ipython",
    "version": 3
   },
   "file_extension": ".py",
   "mimetype": "text/x-python",
   "name": "python",
   "nbconvert_exporter": "python",
   "pygments_lexer": "ipython3",
   "version": "3.10.3"
  }
 },
 "nbformat": 4,
 "nbformat_minor": 5
}
