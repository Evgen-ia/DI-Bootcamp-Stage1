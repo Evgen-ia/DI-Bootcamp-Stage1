{
 "cells": [
  {
   "cell_type": "code",
   "execution_count": 13,
   "id": "d8b6078c-0956-46b7-9f73-c2d00db29f54",
   "metadata": {},
   "outputs": [],
   "source": [
    "import pandas as pd\n",
    "import ssl\n",
    "\n",
    "ssl._create_default_https_context = ssl._create_unverified_context\n",
    "\n",
    "# URL of the dataset\n",
    "url = \"https://raw.githubusercontent.com/justmarkham/DAT8/master/data/chipotle.tsv\"  # Replace with the actual URL\n",
    "\n",
    "# Use pandas to read the dataset from the URL\n",
    "chipo = pd.read_csv(url, sep='\\t')\n",
    "\n",
    "# Now, 'chipo' contains your dataset"
   ]
  },
  {
   "cell_type": "code",
   "execution_count": null,
   "id": "8c4e9366-3709-45b9-9721-475e69e84568",
   "metadata": {},
   "outputs": [],
   "source": []
  },
  {
   "cell_type": "code",
   "execution_count": null,
   "id": "29b0f9e9-29b3-46da-9cd3-0424801bf4ae",
   "metadata": {},
   "outputs": [],
   "source": []
  }
 ],
 "metadata": {
  "kernelspec": {
   "display_name": "Python 3 (ipykernel)",
   "language": "python",
   "name": "python3"
  },
  "language_info": {
   "codemirror_mode": {
    "name": "ipython",
    "version": 3
   },
   "file_extension": ".py",
   "mimetype": "text/x-python",
   "name": "python",
   "nbconvert_exporter": "python",
   "pygments_lexer": "ipython3",
   "version": "3.10.3"
  }
 },
 "nbformat": 4,
 "nbformat_minor": 5
}
