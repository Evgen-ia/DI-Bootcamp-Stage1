{
 "cells": [
  {
   "cell_type": "code",
   "execution_count": 9,
   "id": "89136a0a-86a8-4738-8a09-83ed39fc6537",
   "metadata": {},
   "outputs": [
    {
     "ename": "ModuleNotFoundError",
     "evalue": "No module named 'matplotlib'",
     "output_type": "error",
     "traceback": [
      "\u001b[0;31m---------------------------------------------------------------------------\u001b[0m",
      "\u001b[0;31mModuleNotFoundError\u001b[0m                       Traceback (most recent call last)",
      "Cell \u001b[0;32mIn[9], line 8\u001b[0m\n\u001b[1;32m      5\u001b[0m sys\u001b[38;5;241m.\u001b[39mpath\u001b[38;5;241m.\u001b[39mappend(\u001b[38;5;124m'\u001b[39m\u001b[38;5;124mpython-dateutil>=2.7->matplotlib\u001b[39m\u001b[38;5;124m'\u001b[39m)\n\u001b[1;32m      7\u001b[0m \u001b[38;5;28;01mimport\u001b[39;00m \u001b[38;5;21;01mpandas\u001b[39;00m \u001b[38;5;28;01mas\u001b[39;00m \u001b[38;5;21;01mpd\u001b[39;00m\n\u001b[0;32m----> 8\u001b[0m \u001b[38;5;28;01mimport\u001b[39;00m \u001b[38;5;21;01mmatplotlib\u001b[39;00m\u001b[38;5;21;01m.\u001b[39;00m\u001b[38;5;21;01mpyplot\u001b[39;00m \u001b[38;5;28;01mas\u001b[39;00m \u001b[38;5;21;01mplt\u001b[39;00m\n\u001b[1;32m      9\u001b[0m \u001b[38;5;28;01mfrom\u001b[39;00m \u001b[38;5;21;01msklearn\u001b[39;00m\u001b[38;5;21;01m.\u001b[39;00m\u001b[38;5;21;01mdatasets\u001b[39;00m \u001b[38;5;28;01mimport\u001b[39;00m fetch_california_housing\n\u001b[1;32m     10\u001b[0m \u001b[38;5;28;01mfrom\u001b[39;00m \u001b[38;5;21;01msklearn\u001b[39;00m\u001b[38;5;21;01m.\u001b[39;00m\u001b[38;5;21;01mpreprocessing\u001b[39;00m \u001b[38;5;28;01mimport\u001b[39;00m MinMaxScaler\n",
      "\u001b[0;31mModuleNotFoundError\u001b[0m: No module named 'matplotlib'"
     ]
    }
   ],
   "source": [
    "import ssl\n",
    "ssl._create_default_https_context = ssl._create_unverified_context\n",
    "\n",
    "import sys\n",
    "sys.path.append('python-dateutil>=2.7->matplotlib')\n",
    "\n",
    "import pandas as pd\n",
    "import matplotlib.pyplot as plt\n",
    "from sklearn.datasets import fetch_california_housing\n",
    "from sklearn.preprocessing import MinMaxScaler\n",
    "\n",
    "# Load the California Housing dataset\n",
    "data = fetch_california_housing()\n",
    "\n",
    "# Convert to a pandas DataFrame\n",
    "df = pd.DataFrame(data['data'], columns=data['feature_names'])\n",
    "df['Target'] = data['target']\n"
   ]
  },
  {
   "cell_type": "code",
   "execution_count": 3,
   "id": "fcca044b-2cf4-4c7e-b101-8b64cd9f28f9",
   "metadata": {},
   "outputs": [
    {
     "ename": "NameError",
     "evalue": "name 'df' is not defined",
     "output_type": "error",
     "traceback": [
      "\u001b[0;31m---------------------------------------------------------------------------\u001b[0m",
      "\u001b[0;31mNameError\u001b[0m                                 Traceback (most recent call last)",
      "Cell \u001b[0;32mIn[3], line 3\u001b[0m\n\u001b[1;32m      1\u001b[0m \u001b[38;5;66;03m# Explore the Data\u001b[39;00m\n\u001b[1;32m      2\u001b[0m \u001b[38;5;66;03m# Statistical summary\u001b[39;00m\n\u001b[0;32m----> 3\u001b[0m \u001b[38;5;28mprint\u001b[39m(\u001b[43mdf\u001b[49m\u001b[38;5;241m.\u001b[39mdescribe())\n\u001b[1;32m      5\u001b[0m \u001b[38;5;66;03m# Preview the data\u001b[39;00m\n\u001b[1;32m      6\u001b[0m \u001b[38;5;28mprint\u001b[39m(df\u001b[38;5;241m.\u001b[39mhead())\n",
      "\u001b[0;31mNameError\u001b[0m: name 'df' is not defined"
     ]
    }
   ],
   "source": [
    "# Explore the Data\n",
    "# Statistical summary\n",
    "print(df.describe())\n",
    "\n",
    "# Preview the data\n",
    "print(df.head())\n",
    "\n",
    "# Get metadata\n",
    "print(df.info())\n",
    "\n",
    "# Preprocess the Data\n",
    "# Check for missing data\n",
    "print(df.isnull().sum())\n",
    "\n",
    "# Normalize continuous variables\n",
    "scaler = MinMaxScaler()\n",
    "df[data.feature_names] = scaler.fit_transform(df[data.feature_names])\n",
    "\n",
    "# Categorical Variables\n",
    "# Simulate a categorical variable by categorizing the ‘HouseAge’ column\n",
    "bins = [0, 10, 30, float('inf')]\n",
    "labels = ['New', 'Old', 'Very Old']\n",
    "df['HouseAgeCategory'] = pd.cut(df['HouseAge'], bins=bins, labels=labels)\n",
    "\n",
    "# Apply one-hot encoding\n",
    "df = pd.get_dummies(df, columns=['HouseAgeCategory'])\n",
    "\n",
    "# Correlations\n",
    "# Create a correlation matrix\n",
    "correlation_matrix = df.corr()\n",
    "\n",
    "# Visualize the correlation matrix\n",
    "plt.matshow(correlation_matrix)\n",
    "plt.title('Correlation Matrix')\n",
    "plt.colorbar()\n",
    "plt.show()\n",
    "\n",
    "# Feature Engineering\n",
    "# Create a new feature derived from existing columns\n",
    "df['MedInc_AveRooms'] = df['MedInc'] * df['AveRooms']\n",
    "\n",
    "# Part II - Analyze the relationship between Property Age and Price\n",
    "# Boolean Indexing for Age Groups\n",
    "# New: Houses aged 10 years or less.\n",
    "# Old: Houses aged between 11 and 30 years.\n",
    "# Very Old: Houses aged more than 30 years.\n",
    "new_houses = df[df['HouseAge'] <= 10]\n",
    "old_houses = df[(df['HouseAge'] > 10) & (df['HouseAge'] <= 30)]\n",
    "very_old_houses = df[df['HouseAge'] > 30]\n",
    "\n",
    "# Plotting Histograms\n",
    "# Use matplotlib to plot a histogram that compares property age with its median value\n",
    "plt.hist([new_houses['Target'], old_houses['Target'], very_old_houses['Target']],\n",
    "         bins=20, alpha=0.5, label=['New Houses', 'Old Houses', 'Very Old Houses'])\n",
    "plt.legend()\n",
    "plt.xlabel('Median House Value')\n",
    "plt.ylabel('Frequency')\n",
    "plt.title('Property Age vs. Median House Value')\n",
    "plt.show()\n",
    "\n",
    "# Part III - Analyze the Neighborhood Crime Rate Impact on Prices\n",
    "# Creating Binned Income\n",
    "# Divide median income into bins\n",
    "df['MedIncBins'] = pd.cut(df['MedInc'], bins=5)\n",
    "\n",
    "# Grouping by Binned Income\n",
    "# Group by the binned income and find the average Target\n",
    "grouped_data = df.groupby('MedIncBins')['Target'].mean()\n",
    "\n",
    "# Plotting Line Plot\n",
    "# Visualize the grouped data with a line plot\n",
    "grouped_data.plot(kind='line', marker='o')\n",
    "plt.xlabel('Median Income Bins')\n",
    "plt.ylabel('Average House Value')\n",
    "plt.title('Neighborhood Income Impact on House Prices')\n",
    "plt.show()\n"
   ]
  },
  {
   "cell_type": "code",
   "execution_count": null,
   "id": "a884639d-7492-493b-94b3-8e1bcbd50eec",
   "metadata": {},
   "outputs": [],
   "source": []
  }
 ],
 "metadata": {
  "kernelspec": {
   "display_name": "Python 3 (ipykernel)",
   "language": "python",
   "name": "python3"
  },
  "language_info": {
   "codemirror_mode": {
    "name": "ipython",
    "version": 3
   },
   "file_extension": ".py",
   "mimetype": "text/x-python",
   "name": "python",
   "nbconvert_exporter": "python",
   "pygments_lexer": "ipython3",
   "version": "3.10.3"
  }
 },
 "nbformat": 4,
 "nbformat_minor": 5
}
